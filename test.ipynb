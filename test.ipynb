{
 "cells": [
  {
   "cell_type": "code",
   "execution_count": null,
   "metadata": {},
   "outputs": [],
   "source": [
    "from datetime import datetime\n",
    "def set_custom_time(time_str):\n",
    "        # 解析字符串为 datetime 对象\n",
    "        return datetime.strptime(time_str, \"%a, %d %b %Y %H:%M:%S %Z\")\n",
    "print(set_custom_time(\"Wed, 18 Sep 1996 07:57:29 GMT\"))"
   ]
  },
  {
   "cell_type": "code",
   "execution_count": 1,
   "metadata": {},
   "outputs": [],
   "source": [
    "import json\n",
    "import random\n",
    "with open('./archive/arxiv-metadata-oai-snapshot.json') as f:\n",
    "    lines = f.readlines()"
   ]
  },
  {
   "cell_type": "code",
   "execution_count": 2,
   "metadata": {},
   "outputs": [
    {
     "name": "stdout",
     "output_type": "stream",
     "text": [
      "2390081\n"
     ]
    }
   ],
   "source": [
    "print(len(lines))"
   ]
  },
  {
   "cell_type": "code",
   "execution_count": 4,
   "metadata": {},
   "outputs": [
    {
     "name": "stdout",
     "output_type": "stream",
     "text": [
      "cs.LG cs.AI cs.CV\n",
      "Zeju Qiu, Weiyang Liu, Tim Z. Xiao, Zhen Liu, Umang Bhatt, Yucen Luo,\n",
      "  Adrian Weller, Bernhard Sch\\\"olkopf\n"
     ]
    }
   ],
   "source": [
    "line = random.choice(lines)\n",
    "data = json.loads(line)\n",
    "# print(data['categories'])\n",
    "print(data['authors'])"
   ]
  },
  {
   "cell_type": "code",
   "execution_count": 9,
   "metadata": {},
   "outputs": [
    {
     "name": "stdout",
     "output_type": "stream",
     "text": [
      "A. Sollima, C. Cacciari, A.A. Arkharov, V.M. Larionov, D.L. Gorshanov,\n",
      "  N.V. Efimova, A. Piersimoni\n",
      "L. Pardo-Sim\\'on and D. J. Sixsmith\n",
      "Luca Leonforte, Davide Valenti, Bernardo Spagnolo and Angelo Carollo\n",
      "Larissa Vertchenko, Clayton DeVault, Radu Malureanu, Eric Mazur, and\n",
      "  Andrei Lavrinenko\n",
      "Rachid Guennouni Hassani (X), Alexis Gilles, Emmanuel Lassalle, Arthur\n",
      "  D\\'enouveaux\n",
      "Ryokichi Tanaka, Kenkichi Tsunoda\n",
      "Ho Trung Dung, Ludwig Kn\\\"oll, Dirk-Gunnar Welsch\n",
      "X. Roca-Maza (1), G. Colo' (1), H. Sagawa (2) ((1) Universita' degli\n",
      "  Studi and INFN, Via Celoria 16, 20133 Milano, Italy (2) RIKEN Nishina Center,\n",
      "  Wako 351-0198, Japan and University of Aizu, Aizu-Wakamatsu, Fukushima\n",
      "  965-8560, Japan)\n",
      "Maya Ben-Yami, Nikku Madhusudhan, Samuel H. C. Cabot, Savvas\n",
      "  Constantinou, Anjali Piette, Siddharth Gandhi, Luis Welbanks\n",
      "Colin Campbell, Frederic T. Chong, Denny Dahl, Paige Frederick, Palash\n",
      "  Goiporia, Pranav Gokhale, Benjamin Hall, Salahedeen Issa, Eric Jones,\n",
      "  Stephanie Lee, Andrew Litteken, Victory Omole, David Owusu-Antwi, Michael A.\n",
      "  Perlin, Rich Rines, Kaitlin N. Smith, Noah Goss, Akel Hashim, Ravi Naik, Ed\n",
      "  Younis, Daniel Lobser, Christopher G. Yale, Benchen Huang, Ji Liu\n"
     ]
    }
   ],
   "source": [
    "for i in range(10):\n",
    "    line = random.choice(lines)\n",
    "    data = json.loads(line)\n",
    "    # print(data['categories'])\n",
    "    print(data['authors'])"
   ]
  },
  {
   "cell_type": "code",
   "execution_count": 43,
   "metadata": {},
   "outputs": [],
   "source": [
    "categories = set()\n",
    "for line in lines:\n",
    "    category = json.loads(line)['categories'].split()\n",
    "    categories.update(category)"
   ]
  },
  {
   "cell_type": "code",
   "execution_count": 45,
   "metadata": {},
   "outputs": [
    {
     "name": "stdout",
     "output_type": "stream",
     "text": [
      "176\n"
     ]
    }
   ],
   "source": [
    "print(len(categories))"
   ]
  },
  {
   "cell_type": "code",
   "execution_count": null,
   "metadata": {},
   "outputs": [],
   "source": [
    "import json\n",
    "\n",
    "file_path = './archive/arxiv-metadata-oai-snapshot.json'\n",
    "cnt=0\n",
    "s = set()\n",
    "with open(file_path, 'r') as file:\n",
    "    for line in file:\n",
    "        try:\n",
    "            data = json.loads(line)\n",
    "            c=0\n",
    "            for tag in data['categories'].split():\n",
    "                if 'cs' in tag.split('.'):\n",
    "                    print(data['authors'])\n",
    "                    c=1\n",
    "                s.add(tag)\n",
    "            if c==1:\n",
    "                s.update(data['categories'].split())\n",
    "            cnt+=c\n",
    "            \n",
    "        except json.JSONDecodeError as e:\n",
    "            print(f\"Error decoding JSON: {e}\")"
   ]
  },
  {
   "cell_type": "code",
   "execution_count": null,
   "metadata": {},
   "outputs": [],
   "source": [
    "print(cnt)"
   ]
  },
  {
   "cell_type": "code",
   "execution_count": null,
   "metadata": {},
   "outputs": [],
   "source": [
    "print(len(s))"
   ]
  },
  {
   "cell_type": "code",
   "execution_count": null,
   "metadata": {},
   "outputs": [],
   "source": [
    "# for i in range(10):\n",
    "#     print(s.pop())\n",
    "while s:\n",
    "    print(s.pop())"
   ]
  }
 ],
 "metadata": {
  "kernelspec": {
   "display_name": "sovits",
   "language": "python",
   "name": "python3"
  },
  "language_info": {
   "codemirror_mode": {
    "name": "ipython",
    "version": 3
   },
   "file_extension": ".py",
   "mimetype": "text/x-python",
   "name": "python",
   "nbconvert_exporter": "python",
   "pygments_lexer": "ipython3",
   "version": "3.12.0"
  }
 },
 "nbformat": 4,
 "nbformat_minor": 2
}
